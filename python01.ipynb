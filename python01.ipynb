{
 "cells": [
  {
   "cell_type": "markdown",
   "metadata": {},
   "source": [
    "1、封装：同一功能放在一起"
   ]
  },
  {
   "cell_type": "markdown",
   "metadata": {},
   "source": [
    "2、继承：主页面一个接口，子页面继承主页面"
   ]
  },
  {
   "cell_type": "markdown",
   "metadata": {},
   "source": [
    "3、python中有：要缩进一个tab"
   ]
  },
  {
   "cell_type": "markdown",
   "metadata": {},
   "source": [
    "4、在Python中所有的函数都有返回值，如果没有给予return则默认返回出None，如果给予返回值则返回给予的值。"
   ]
  },
  {
   "cell_type": "markdown",
   "metadata": {},
   "source": [
    "5、导入一个库：import+库名"
   ]
  },
  {
   "cell_type": "markdown",
   "metadata": {},
   "source": [
    "6、for循环，如果是计数的情况则使用：range（start，end，[step]）\n",
    "  range区间是一个前闭后开的区间，start可取，end不可取。"
   ]
  },
  {
   "cell_type": "code",
   "execution_count": null,
   "metadata": {},
   "outputs": [],
   "source": [
    "a='rrr'\n",
    "print(a)"
   ]
  },
  {
   "cell_type": "code",
   "execution_count": null,
   "metadata": {},
   "outputs": [],
   "source": [
    "#输入一个数字返回这个数字的平方\n",
    "def su(x):\n",
    "    return x**2\n",
    "print(su(343530))"
   ]
  },
  {
   "cell_type": "code",
   "execution_count": null,
   "metadata": {},
   "outputs": [],
   "source": [
    "#进度条\n",
    "import time\n",
    "def s():\n",
    "    for i in range(1,101):\n",
    "        #沉睡一秒\n",
    "        time.sleep(1)\n",
    "        #格式化输出%-->%();%d后接整型；%f后接浮点型；%s后接字符串。\n",
    "        #{}-->format（），他可以直接传入任何类型，然后格式化输出\n",
    "        # \\r 回到顶点\n",
    "        #print控制台打印1、end以什么方式结尾，默认一换行符“\\n”.2、flush刷新缓冲区\n",
    "        print('%s%d%%\\r'%('#'*i,i),end=\"\",flush='true')\n",
    "s()"
   ]
  },
  {
   "cell_type": "code",
   "execution_count": null,
   "metadata": {},
   "outputs": [],
   "source": [
    "#俩参数相加相减相乘相除\n",
    "class a(object):\n",
    "    #def __init__(self)初始化自己\n",
    "    def __init__(self,m,n):\n",
    "        #多个结果打印用“，”分隔\n",
    "        print(m-n,m+n,m*n,m/n)\n",
    "a(4,3)"
   ]
  },
  {
   "cell_type": "code",
   "execution_count": null,
   "metadata": {},
   "outputs": [],
   "source": [
    "#传参\n",
    "class student(object):\n",
    "    def __init__(self,name):\n",
    "        print(name)\n",
    "student(100)"
   ]
  },
  {
   "cell_type": "code",
   "execution_count": null,
   "metadata": {},
   "outputs": [],
   "source": [
    "#输入一个年龄，如果大于18可观看爱情片，小于18只能看动画片\n",
    "class p(object):\n",
    "    def __init__(self,age):\n",
    "         if age>=18:\n",
    "                print(\"可看爱情片\")\n",
    "         else:\n",
    "            print(\"看动画片\")\n",
    "p(17)"
   ]
  },
  {
   "cell_type": "code",
   "execution_count": null,
   "metadata": {},
   "outputs": [],
   "source": [
    "#输入一个年龄，如果大于20小于50可观看爱情片，小于20大于18看四级，大于50不要看了\n",
    "class x(object):\n",
    "    def __init__(self,age):\n",
    "        if 18<=age<=20 :\n",
    "            print(\"看书\")\n",
    "        \n",
    "        elif 20<age<=50:\n",
    "            print(\"ok\")\n",
    "        elif age<18:\n",
    "            print(\"dhp\")\n",
    "        else:\n",
    "            print(\"no\")\n",
    "x(51)"
   ]
  },
  {
   "cell_type": "code",
   "execution_count": null,
   "metadata": {},
   "outputs": [],
   "source": [
    "#共享\n",
    "class Name(object):\n",
    "    def __init__(self,num):\n",
    "        self.a=num\n",
    "    def func1(self):\n",
    "        print(self.a)\n",
    "    def func2(self):\n",
    "        print('hello')\n",
    "name=Name(100)\n",
    "name.func1()\n",
    "name.func2()"
   ]
  },
  {
   "cell_type": "code",
   "execution_count": null,
   "metadata": {},
   "outputs": [],
   "source": [
    "#判断年龄和性别\n",
    "class l(object):\n",
    "    def __init__(self,age,gener):\n",
    "        self.age=age\n",
    "        self.gener=gener\n",
    "    def Age(self):\n",
    "        if self.age<=18:\n",
    "            print(\"青年\")\n",
    "        elif 18<self.age<=40:\n",
    "            print(\"中年\")\n",
    "        else:\n",
    "            print(\"老年\")\n",
    "    def Gener(self):\n",
    "        if self.gener==0:\n",
    "            print(\"性别男\")\n",
    "        elif self.gener==1:\n",
    "            print(\"性别女\")\n",
    "        else:\n",
    "            print(\"无法识别\")\n",
    "L=l(7,1)\n",
    "L.Age()\n",
    "L.Gener()"
   ]
  },
  {
   "cell_type": "code",
   "execution_count": null,
   "metadata": {},
   "outputs": [],
   "source": [
    "class A(object):\n",
    "    def __init__(self,a):\n",
    "        self.a=a\n",
    "    def B(self,b):\n",
    "        self.b=b\n",
    "        print(b)\n",
    "    def c(self):\n",
    "        print(self.b)\n",
    "w=A(2)\n",
    "w.B(1)\n",
    "w.c()"
   ]
  },
  {
   "cell_type": "code",
   "execution_count": null,
   "metadata": {},
   "outputs": [],
   "source": [
    "#判断一个数是否是素数\n",
    "class Name(object):\n",
    "    def __init__(self,num):\n",
    "        self.num=num\n",
    "    def Check(self):\n",
    "#检查代码\n",
    "        for i in range(2,self.num):\n",
    "            if self.num % i==0:\n",
    "                print('不是素数')\n",
    "                break\n",
    "        else:\n",
    "            print('是素数')\n",
    "name=Name(6)\n",
    "name.Check()"
   ]
  },
  {
   "cell_type": "code",
   "execution_count": null,
   "metadata": {},
   "outputs": [],
   "source": [
    "#随机选择\n",
    "import numpy as np\n",
    "res =np.random.choice(['典韦','赵云','鲁班'])\n",
    "print(res)\n"
   ]
  },
  {
   "cell_type": "markdown",
   "metadata": {},
   "source": [
    "# homework"
   ]
  },
  {
   "cell_type": "markdown",
   "metadata": {},
   "source": [
    "王者荣耀习题"
   ]
  },
  {
   "cell_type": "code",
   "execution_count": 51,
   "metadata": {},
   "outputs": [
    {
     "name": "stdout",
     "output_type": "stream",
     "text": [
      "对战模式：人机对战or多人对战e\n",
      "e\n",
      "请选择人物：典韦，赵云，鲁班e\n",
      "e :战力--253，防御--876\n",
      "赵云 :战力--1700，防御--1541\n",
      "请输入开始e\n",
      "进入加载.......\n",
      "加载失败，不建议玩，学习吧\n"
     ]
    }
   ],
   "source": [
    "import time\n",
    "import numpy as np\n",
    "class wz(object):\n",
    "    def __init__(self,entry):\n",
    "        self.entry=entry\n",
    "    def jm(self):\n",
    "        self.entry= input('对战模式：人机对战or多人对战')\n",
    "        print(self.entry)\n",
    "    def rw(self):\n",
    "        figure= input('请选择人物：典韦，赵云，鲁班')\n",
    "        if figure== '典韦':\n",
    "            print(figure,\":战力--1500，防御--1647\")\n",
    "        elif figure == '赵云':\n",
    "            print(figure,\":战力--1700，防御--1541\")\n",
    "        else:\n",
    "            print(figure,\":战力--253，防御--876\")\n",
    "    def sj(self):\n",
    "        res =np.random.choice(['典韦','赵云','鲁班'])\n",
    "        if res== '典韦':\n",
    "            print(res,\":战力--1500，防御--1647\")\n",
    "        elif res == '赵云':\n",
    "            print (res,\":战力--1700，防御--1541\")\n",
    "        else:\n",
    "            print(res,\":战力--253，防御--876\")\n",
    "\n",
    "    def start(self):\n",
    "        b=input(\"请输入开始\")\n",
    "        print('进入加载.......')\n",
    "    def s(self):\n",
    "        for i in range(1,3):\n",
    "            time.sleep(1)\n",
    "            print('%s%d%%\\r'%('#'*i,i),end=\"\",flush='true')\n",
    "\n",
    "    \n",
    "        \n",
    "WZ=wz('人机')\n",
    "WZ.jm()\n",
    "WZ.rw() \n",
    "WZ.sj()\n",
    "WZ.start()\n",
    "WZ.s()\n",
    "print('加载失败，不建议玩，学习吧')"
   ]
  },
  {
   "cell_type": "markdown",
   "metadata": {},
   "source": [
    " 第一题(数学方面：五角数）一个五角数被定义为n(3n-1)/2,编写一个测试程序使用这个函数显示前100个五角数，每行显示10个"
   ]
  },
  {
   "cell_type": "code",
   "execution_count": 23,
   "metadata": {},
   "outputs": [
    {
     "name": "stdout",
     "output_type": "stream",
     "text": [
      "1\t5\t12\t22\t35\t51\t70\t92\t117\t145\t\n",
      "176\t210\t247\t287\t330\t376\t425\t477\t532\t590\t\n",
      "651\t715\t782\t852\t925\t1001\t1080\t1162\t1247\t1335\t\n",
      "1426\t1520\t1617\t1717\t1820\t1926\t2035\t2147\t2262\t2380\t\n",
      "2501\t2625\t2752\t2882\t3015\t3151\t3290\t3432\t3577\t3725\t\n",
      "3876\t4030\t4187\t4347\t4510\t4676\t4845\t5017\t5192\t5370\t\n",
      "5551\t5735\t5922\t6112\t6305\t6501\t6700\t6902\t7107\t7315\t\n",
      "7526\t7740\t7957\t8177\t8400\t8626\t8855\t9087\t9322\t9560\t\n",
      "9801\t10045\t10292\t10542\t10795\t11051\t11310\t11572\t11837\t12105\t\n",
      "12376\t12650\t12927\t13207\t13490\t13776\t14065\t14357\t14652\t14950\t\n"
     ]
    }
   ],
   "source": [
    "def getPentagona1Number(n):\n",
    "    c=int(n*(3*n-1)/2)\n",
    "    print(c,end=\"\\t\")#\\t制表符\n",
    "    if n % 10==0:\n",
    "        print()\n",
    "for i in range(1,101):\n",
    "    getPentagona1Number(i)"
   ]
  },
  {
   "cell_type": "markdown",
   "metadata": {},
   "source": [
    "第二题（求一个整数各个数字的和）"
   ]
  },
  {
   "cell_type": "code",
   "execution_count": 5,
   "metadata": {},
   "outputs": [
    {
     "name": "stdout",
     "output_type": "stream",
     "text": [
      "12\n"
     ]
    }
   ],
   "source": [
    "def sumDigits(n):\n",
    "    #str将括号中的内容强制转换为字符串\n",
    "    str_=str(n)\n",
    "    int_ = 0\n",
    "    for i in str_:\n",
    "        int_ += int(i)#int_ =int_+int(i)\n",
    "    print(int_)\n",
    "sumDigits(345)"
   ]
  },
  {
   "cell_type": "markdown",
   "metadata": {},
   "source": [
    "第三题（对三个数排序）提醒用户输入三个整数，然后调用函数按升序显示三个数"
   ]
  },
  {
   "cell_type": "code",
   "execution_count": 6,
   "metadata": {},
   "outputs": [
    {
     "name": "stdout",
     "output_type": "stream",
     "text": [
      "[1, 2, 3]\n"
     ]
    }
   ],
   "source": [
    "def displaySortedNumber(num1,num2,num3):\n",
    "    nums = [num1,num2,num3]\n",
    "    nums.sort()#排序，默认以升序，reverse：翻转\n",
    "    print(nums)\n",
    "displaySortedNumber(3,2,1)"
   ]
  },
  {
   "cell_type": "markdown",
   "metadata": {},
   "source": [
    "第四题（财务应用程序，计算未来投资值）编写一个程序提示用户输入投资额和百分比格式的年利率，然后输出一份表格显示年份从1到30年的未来值。"
   ]
  },
  {
   "cell_type": "code",
   "execution_count": 8,
   "metadata": {},
   "outputs": [
    {
     "name": "stdout",
     "output_type": "stream",
     "text": [
      "1 86000.0\n",
      "2 369800.0\n",
      "3 1590140.0\n",
      "4 6837602.0\n",
      "5 29401688.599999998\n",
      "6 126427260.97999997\n",
      "7 543637222.2139999\n",
      "8 2337640055.5201993\n",
      "9 10051852238.736856\n",
      "10 43222964626.56848\n",
      "11 185858747894.24448\n",
      "12 799192615945.2512\n",
      "13 3436528248564.58\n",
      "14 14777071468827.693\n",
      "15 63541407315959.08\n",
      "16 273228051458624.0\n",
      "17 1174880621272083.0\n",
      "18 5051986671469956.0\n",
      "19 2.172354268732081e+16\n",
      "20 9.341123355547947e+16\n",
      "21 4.016683042885617e+17\n",
      "22 1.7271737084408154e+18\n",
      "23 7.426846946295506e+18\n",
      "24 3.193544186907067e+19\n",
      "25 1.3732240003700389e+20\n",
      "26 5.904863201591166e+20\n",
      "27 2.539091176684201e+21\n",
      "28 1.0918092059742065e+22\n",
      "29 4.694779585689088e+22\n",
      "30 2.0187552218463076e+23\n"
     ]
    }
   ],
   "source": [
    "def futureTnvestmentValue(investmentAmount,monthlyInterestRate,years):\n",
    "    years = years+1\n",
    "    for i in range(1,years):\n",
    "        income = investmentAmount+monthlyInterestRate*investmentAmount\n",
    "        print(i,income)\n",
    "        investmentAmount=income\n",
    "futureTnvestmentValue(20000,3.3,30)"
   ]
  },
  {
   "cell_type": "markdown",
   "metadata": {},
   "source": [
    "第五题（显示字符）打印ch1到ch2之间的字符，按每行指定某个数来打印。编写一个测试程序，打印“1”到“Z”的字符，每行打印10个"
   ]
  },
  {
   "cell_type": "code",
   "execution_count": 36,
   "metadata": {},
   "outputs": [
    {
     "name": "stdout",
     "output_type": "stream",
     "text": [
      "2 3 4 5 6 7 8 9 : ;\n",
      "< = > ? @ A B C D E\n",
      "F G H I J K L M N O\n",
      "P Q R S T U V W X Y\n"
     ]
    }
   ],
   "source": [
    "def printChar(ch1,ch2,numberPerLine):\n",
    "    a=ord(ch1)+1\n",
    "    b=ord(ch2)\n",
    "    n=0\n",
    "    \n",
    "    for i in range(a,b):\n",
    "        n=n+1\n",
    "        if n%numberPerLine !=0:\n",
    "            print(chr(i),end=\" \")\n",
    "        else:\n",
    "            print(chr(i))\n",
    "printChar('1','Z',10)"
   ]
  },
  {
   "cell_type": "markdown",
   "metadata": {},
   "source": [
    "第六题（一年的天数）编写一个程序测试，显示从2010年到2020年每年的天数"
   ]
  },
  {
   "cell_type": "code",
   "execution_count": 16,
   "metadata": {},
   "outputs": [
    {
     "name": "stdout",
     "output_type": "stream",
     "text": [
      "2010 年 :365天\n",
      "2011 年 :365天\n",
      "2012 年 :366天\n",
      "2013 年 :365天\n",
      "2014 年 :365天\n",
      "2015 年 :365天\n",
      "2016 年 :366天\n",
      "2017 年 :365天\n",
      "2018 年 :365天\n",
      "2019 年 :365天\n",
      "2020 年 :366天\n"
     ]
    }
   ],
   "source": [
    "def numberOfDaysInAYear(year):\n",
    "    for i in range(2010,2021):\n",
    "        if i % 4 == 0 and i%100 != 0:\n",
    "            print(i , '年',':366天')\n",
    "        else:\n",
    "            print(i , '年',':365天')\n",
    "\n",
    "numberOfDaysInAYear(2)\n"
   ]
  },
  {
   "cell_type": "markdown",
   "metadata": {},
   "source": [
    "第七题（几何问题：显示角）计算两点间距离"
   ]
  },
  {
   "cell_type": "code",
   "execution_count": 37,
   "metadata": {},
   "outputs": [
    {
     "name": "stdout",
     "output_type": "stream",
     "text": [
      "6.324555320336759\n"
     ]
    }
   ],
   "source": [
    "import math\n",
    "def distance(x1,y1,x2,y2):   \n",
    "    d1 = x1 - x2\n",
    "    d2 = y1 - y2\n",
    "    #计算两点之间的距离\n",
    "    distance = math.sqrt(d1**2 + d2**2)\n",
    "    print(distance)\n",
    "distance(2,5,8,7)"
   ]
  },
  {
   "cell_type": "markdown",
   "metadata": {},
   "source": [
    "第八题（梅森素数）如果一个素数可以写成2^（P-1）的形式，其中p是某个正整数，那么这个数就被称作梅森素数。编写程序找出p<=31的梅森素数。"
   ]
  },
  {
   "cell_type": "code",
   "execution_count": 39,
   "metadata": {},
   "outputs": [
    {
     "name": "stdout",
     "output_type": "stream",
     "text": [
      "2 3\n",
      "3 7\n",
      "5 31\n",
      "7 127\n",
      "11 2047\n",
      "13 8191\n",
      "17 131071\n",
      "19 524287\n",
      "23 8388607\n",
      "29 536870911\n",
      "31 2147483647\n"
     ]
    }
   ],
   "source": [
    "def ms(p):\n",
    "    a=pow(2,p)-1\n",
    "    b=2\n",
    "    if p==2:\n",
    "        print(p,a)\n",
    "    for i in range(2,p):\n",
    "        b=b+1\n",
    "        if p%i==0:\n",
    "            break\n",
    "        if b == p:\n",
    "            print(p,a)\n",
    "            \n",
    "for p in range(1,32):\n",
    "    ms(p)"
   ]
  },
  {
   "cell_type": "markdown",
   "metadata": {},
   "source": [
    "第九题（当前时间和日期）调用time.time()返回1970年1月1日0点开始的毫秒数。编写程序显示日期和时间。"
   ]
  },
  {
   "cell_type": "code",
   "execution_count": 41,
   "metadata": {},
   "outputs": [
    {
     "name": "stdout",
     "output_type": "stream",
     "text": [
      "1565178865.372978\n",
      "Cuurrent date and time is 2019 年 8 月 7 日 19 : 54 : 25\n"
     ]
    }
   ],
   "source": [
    "import time\n",
    "print(time.time())\n",
    "time = time.localtime(time.time())\n",
    "print(\"Cuurrent date and time is\",time.tm_year,\"年\",\n",
    "      time.tm_mon,\"月\",time.tm_mday,\"日\",\n",
    "      time.tm_hour,\":\",time.tm_min,\":\",time.tm_sec)"
   ]
  },
  {
   "cell_type": "markdown",
   "metadata": {},
   "source": [
    "第十题（游戏：掷色子）"
   ]
  },
  {
   "cell_type": "code",
   "execution_count": 46,
   "metadata": {},
   "outputs": [
    {
     "name": "stdout",
     "output_type": "stream",
     "text": [
      "您第一次抛出的点数为: 6\n",
      "您第二次抛出的点数为: 1\n",
      "您抛出的两次点数之和为： 7\n",
      "你赢了！！！\n"
     ]
    }
   ],
   "source": [
    "import numpy as np\n",
    "def ds():\n",
    "    res1 = np.random.choice([1,2,3,4,5,6])\n",
    "    print(\"您第一次抛出的点数为:\",res1)\n",
    "    res2 = np.random.choice([1,2,3,4,5,6])\n",
    "    print(\"您第二次抛出的点数为:\",res2)\n",
    "    res = res1 + res2\n",
    "    print(\"您抛出的两次点数之和为：\",res)\n",
    "    return res\n",
    "res = ds()\n",
    "if res==2 or res==3 or res==12:\n",
    "    print(\"你输了！！！\")\n",
    "elif res==7 or res==11:\n",
    "    print(\"你赢了！！！\")\n",
    "else:\n",
    "    res3 = res\n",
    "    res = ds()\n",
    "    if res ==7 or res == res3:\n",
    "        print(\"你赢了！！！\")\n",
    "    else:\n",
    "        print(\"请开始下一局！\")"
   ]
  },
  {
   "cell_type": "code",
   "execution_count": null,
   "metadata": {},
   "outputs": [],
   "source": []
  },
  {
   "cell_type": "code",
   "execution_count": null,
   "metadata": {},
   "outputs": [],
   "source": []
  }
 ],
 "metadata": {
  "kernelspec": {
   "display_name": "Python 3",
   "language": "python",
   "name": "python3"
  },
  "language_info": {
   "codemirror_mode": {
    "name": "ipython",
    "version": 3
   },
   "file_extension": ".py",
   "mimetype": "text/x-python",
   "name": "python",
   "nbconvert_exporter": "python",
   "pygments_lexer": "ipython3",
   "version": "3.6.4"
  }
 },
 "nbformat": 4,
 "nbformat_minor": 2
}
