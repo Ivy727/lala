{
 "cells": [
  {
   "cell_type": "code",
   "execution_count": 10,
   "metadata": {},
   "outputs": [
    {
     "name": "stdout",
     "output_type": "stream",
     "text": [
      "104\n"
     ]
    }
   ],
   "source": [
    "class A(object):\n",
    "    def __init__(self,a,b,c):\n",
    "        self.__a=a\n",
    "        self.__b=b\n",
    "        self.__c=c\n",
    "    @property\n",
    "    def B(self):\n",
    "        print(self.__a)\n",
    "    @B.setter\n",
    "    def B(self,num):\n",
    "        self.__a=num\n",
    "    def sum(self):\n",
    "        print(self.__a+self.__b+self.__c)\n",
    "a=A(12,1,4)\n",
    "a.B=99\n",
    "a.sum()       "
   ]
  },
  {
   "cell_type": "code",
   "execution_count": 15,
   "metadata": {},
   "outputs": [
    {
     "name": "stdout",
     "output_type": "stream",
     "text": [
      "hhhhh\n"
     ]
    }
   ],
   "source": [
    "class squre(object):\n",
    "    def __init__(self):\n",
    "        self._mi=\"藏起来，不给看，想看输密码\"  \n",
    "    @property\n",
    "    def mi(self):\n",
    "        return self._mi\n",
    "    @mi.setter\n",
    "    def mi(self,str_):\n",
    "        self._mi=str_\n",
    "def look():\n",
    "    s=squre()\n",
    "    print(s.mi)\n",
    "def change(password,str_):\n",
    "    if password =='2323213':\n",
    "        s=squre()\n",
    "        s.mi=str_\n",
    "        print(s.mi)\n",
    "    else:\n",
    "        print('密码错误')\n",
    "\n",
    "change('2323213','hhhhh')"
   ]
  },
  {
   "cell_type": "code",
   "execution_count": 3,
   "metadata": {},
   "outputs": [],
   "source": [
    "class Person(object):\n",
    "    #限定Person对象只能绑定_name，_age和——gender属性\n",
    "    __slots__ = ('_name','_age','_gender')\n",
    "    def __init__(self,name,age):\n",
    "        self.__name=name\n",
    "        self.__age=age"
   ]
  },
  {
   "cell_type": "code",
   "execution_count": 4,
   "metadata": {},
   "outputs": [
    {
     "name": "stdout",
     "output_type": "stream",
     "text": [
      "1000\n"
     ]
    }
   ],
   "source": [
    "#私有\n",
    "class A(object):\n",
    "        def __init__(self):\n",
    "            self.__a=1000\n",
    "            self.__b=100\n",
    "        def __B(self):\n",
    "            print(self.__a)\n",
    "            self.c()\n",
    "        def __c(self):\n",
    "            print(self.__a)\n",
    "A_=A()\n",
    "print(A_._A__a)\n"
   ]
  },
  {
   "cell_type": "code",
   "execution_count": 6,
   "metadata": {},
   "outputs": [
    {
     "name": "stdout",
     "output_type": "stream",
     "text": [
      "100\n"
     ]
    }
   ],
   "source": [
    "#装饰器的使用\n",
    "class Name(object):\n",
    "    def __init__(self,a,b):\n",
    "        self.__a=a\n",
    "        self.__b=b\n",
    "    @property    \n",
    "    def A (self):\n",
    "        print(self.__a)\n",
    "name=Name(100,200)\n",
    "name.A"
   ]
  },
  {
   "cell_type": "code",
   "execution_count": 13,
   "metadata": {},
   "outputs": [
    {
     "name": "stdout",
     "output_type": "stream",
     "text": [
      "1000\n",
      "200\n"
     ]
    }
   ],
   "source": [
    "#修改器的使用\n",
    "class Name(object):\n",
    "    def __init__(self,a,b):\n",
    "        self.__a=a\n",
    "        self.__b=b\n",
    "    @property\n",
    "    def A(self):\n",
    "        print(self.__a)\n",
    "    @A.setter\n",
    "    def A(self,a1):\n",
    "        self.__a = a1\n",
    "    def play(self):\n",
    "        print(self.__a)\n",
    "        print(self.__b)\n",
    "name=Name(100,200)\n",
    "name.A=1000\n",
    "name.play()"
   ]
  },
  {
   "cell_type": "code",
   "execution_count": 14,
   "metadata": {},
   "outputs": [
    {
     "name": "stdout",
     "output_type": "stream",
     "text": [
      "1000000\n",
      "1000000\n"
     ]
    }
   ],
   "source": [
    "class Num(object):\n",
    "    def __init__(self):\n",
    "        self.a = 1000\n",
    "    \n",
    "    def A(self):\n",
    "        print(self.b)\n",
    "\n",
    "\n",
    "num = Num()\n",
    "num.b =1000000\n",
    "# print(num.a)\n",
    "print(num.b)\n",
    "num.A()"
   ]
  },
  {
   "cell_type": "markdown",
   "metadata": {},
   "source": [
    "练习1:邮箱注册"
   ]
  },
  {
   "cell_type": "code",
   "execution_count": null,
   "metadata": {},
   "outputs": [],
   "source": [
    "#random() 方法返回随机生成的一个实数，它在[0,1)范围内。\n",
    "import random\n",
    "class Regist (object):\n",
    "    def zc(self):\n",
    "        zc= input('注册免费邮箱or注册VIP邮箱')\n",
    "        print(zc)\n",
    "    def address(self):\n",
    "        address= input('邮件地址')\n",
    "        print(\"您输入的邮箱是：%s\" % address,\"@163.com\")\n",
    "        self.mma()\n",
    "    def mma(self):\n",
    "        for _ in range(2):\n",
    "            password_1=input('密码')    \n",
    "            password_2=input('确认密码')\n",
    "            if password_1==password_2:\n",
    "                print( )\n",
    "                #self.yzm()\n",
    "                break\n",
    "            else:\n",
    "                print('两次密码不一致请从新输入！！！')\n",
    "               \n",
    "        else:\n",
    "            print('你可能是一个机器人')\n",
    "            #连接到注册对话\n",
    "            self.zc()\n",
    "            \n",
    "    def yzm(self):\n",
    "        for i in range(4):\n",
    "            number=random.randrange(1000,9999)\n",
    "            print('验证码是： %d'%number)\n",
    "            number_2=input('输入验证码：')\n",
    "            if number == int(number_2):\n",
    "                print('注册成功')\n",
    "                break\n",
    "                #self.phone()\n",
    "            else:\n",
    "                print('验证码错误')\n",
    "               \n",
    "        else:\n",
    "            print('机器人')\n",
    "            self.zc()\n",
    "    def phone(self):\n",
    "        pass\n",
    "\n",
    "        \n",
    "    \n",
    "ss=Regist()\n",
    "ss.zc()\n",
    "ss.address()\n",
    "ss.mma()\n",
    "ss.yzm()\n"
   ]
  },
  {
   "cell_type": "markdown",
   "metadata": {},
   "source": [
    "加图片的王者荣耀"
   ]
  },
  {
   "cell_type": "code",
   "execution_count": 10,
   "metadata": {},
   "outputs": [
    {
     "name": "stdout",
     "output_type": "stream",
     "text": [
      "对战模式：人机对战or多人对战ee\n",
      "ee\n",
      "请选择人物：典韦，赵云，鲁班ee\n",
      "ee :战力--253，防御--876\n",
      "赵云 :战力--1700，防御--1541\n",
      "请输入开始ee\n",
      "进入加载.......\n",
      "加载失败，不建议玩，学习吧\n"
     ]
    }
   ],
   "source": [
    "#import cv\n",
    "import time\n",
    "import numpy as np\n",
    "class wz(object):\n",
    "    def __init__(self,entry):\n",
    "        self.entry=entry\n",
    "    def jm(self):\n",
    "        self.entry= input('对战模式：人机对战or多人对战')\n",
    "        print(self.entry)\n",
    "    def rw(self):\n",
    "        figure= input('请选择人物：典韦，赵云，鲁班')\n",
    "#         im = cv2.imread(luban.jpg)\n",
    "        if figure== '典韦':\n",
    "            print(figure,\":战力--1500，防御--1647\")\n",
    "#             layout.addWidget(QLabel(self,pixmap=QPixmap(\"C:/Users/13947/Pictures/Saved Pictures/luban.jpg\")))\n",
    "        elif figure == '赵云':\n",
    "            print(figure,\":战力--1700，防御--1541\")\n",
    "        else:\n",
    "            print(figure,\":战力--253，防御--876\")\n",
    "    def sj(self):\n",
    "        res =np.random.choice(['典韦','赵云','鲁班'])\n",
    "        if res== '典韦':\n",
    "            print(res,\":战力--1500，防御--1647\")\n",
    "        elif res == '赵云':\n",
    "            print (res,\":战力--1700，防御--1541\")\n",
    "        else:\n",
    "            print(res,\":战力--253，防御--876\")\n",
    "\n",
    "    def start(self):\n",
    "        b=input(\"请输入开始\")\n",
    "        print('进入加载.......')\n",
    "    def s(self):\n",
    "        for i in range(1,3):\n",
    "            time.sleep(1)\n",
    "            print('%s%d%%\\r'%('#'*i,i),end=\"\",flush='true')\n",
    "\n",
    "    \n",
    "        \n",
    "WZ=wz('人机')\n",
    "WZ.jm()\n",
    "WZ.rw() \n",
    "WZ.sj()\n",
    "WZ.start()\n",
    "WZ.s()\n",
    "print('加载失败，不建议玩，学习吧')"
   ]
  },
  {
   "cell_type": "markdown",
   "metadata": {},
   "source": [
    "## homework"
   ]
  },
  {
   "cell_type": "markdown",
   "metadata": {},
   "source": [
    "1、（Rectangle类）设计一个名为Rectangle类来表示矩形"
   ]
  },
  {
   "cell_type": "code",
   "execution_count": 6,
   "metadata": {},
   "outputs": [
    {
     "name": "stdout",
     "output_type": "stream",
     "text": [
      "这个矩形的面积为： 110\n",
      "这个矩形的周长为： 42\n"
     ]
    }
   ],
   "source": [
    "class Rectangle(object):\n",
    "    def __init__(self,width,height):\n",
    "        self.width=width\n",
    "        self.height=height\n",
    "    def getArea(self):\n",
    "        Area=self.height*self.width\n",
    "        print(\"这个矩形的面积为：\",Area)\n",
    "    def getPerimeter(self):\n",
    "        Perimeter=2*self.height+2*self.width\n",
    "        print(\"这个矩形的周长为：\",Perimeter)\n",
    "A= Rectangle(11,10)\n",
    "A.getArea()\n",
    "A.getPerimeter()"
   ]
  },
  {
   "cell_type": "markdown",
   "metadata": {},
   "source": [
    "2、（Account类）设计一个名为Account的类"
   ]
  },
  {
   "cell_type": "code",
   "execution_count": 3,
   "metadata": {},
   "outputs": [
    {
     "name": "stdout",
     "output_type": "stream",
     "text": [
      "请输入取钱金额\n",
      "输入2500\n",
      "您成功取出 2500 元\n",
      "请输入存钱金额\n",
      "输入3000\n",
      "您成功存入 3000 元\n",
      "1122 您账户余额为： 600 利率为： 0.045 利息为 4.5\n"
     ]
    }
   ],
   "source": [
    "class Account(object):\n",
    "    def __init__(self):\n",
    "        self.InterestRate=0\n",
    "        self.annuallnterestRate=100\n",
    "        self.Interest=0\n",
    "    def information(self,id,yu_e):\n",
    "        self.id=id\n",
    "        self.yu_e=yu_e\n",
    "    def getMonthlyInterestRate(self,InterestRate):\n",
    "        self.InterestRate=InterestRate\n",
    "    def getMonthlyInterest(self):\n",
    "        A=self.annuallnterestRate*self.InterestRate\n",
    "        self.Interest=A\n",
    "    def withdraw(self):\n",
    "        print(\"请输入取钱金额\")\n",
    "        res = input(\"输入\")\n",
    "        self.annuallnterestRate = self.annuallnterestRate - int(res)\n",
    "        print(\"您成功取出\",res,\"元\")\n",
    "    def deposit(self):\n",
    "        print(\"请输入存钱金额\")\n",
    "        res1=input(\"输入\")\n",
    "        self.annuallnterestRate=self.annuallnterestRate+int(res1)\n",
    "        print(\"您成功存入\",res1,\"元\")\n",
    "        \n",
    "        print(self.id,\"您账户余额为：\",self.annuallnterestRate,\"利率为：\",self.InterestRate,\"利息为\",self.Interest)\n",
    "        \n",
    "E = Account()\n",
    "E.information(1122,20000)\n",
    "E.getMonthlyInterestRate(0.045)\n",
    "E.getMonthlyInterest()\n",
    "E.withdraw()\n",
    "E.deposit()"
   ]
  },
  {
   "cell_type": "markdown",
   "metadata": {},
   "source": [
    "3、（Fan类）设计一个名为Fan的类表示一个风扇"
   ]
  },
  {
   "cell_type": "code",
   "execution_count": 23,
   "metadata": {},
   "outputs": [
    {
     "name": "stdout",
     "output_type": "stream",
     "text": [
      "FAST 10.0 yellow True\n",
      "MEDIUM 5.0 blue False\n"
     ]
    }
   ],
   "source": [
    "class Fan(object):\n",
    "    def fan(self,speed=2,on=False,radius=5.0,color='blue'):\n",
    "        self.speed=speed\n",
    "        self.color=color\n",
    "        self.radius=radius\n",
    "        self.on=on    \n",
    "    def function(self):\n",
    "        if self.speed==1:\n",
    "            speed_=\"SLOW\"\n",
    "        elif self.speed==2:\n",
    "            speed_=\"MEDIUM\"\n",
    "        else:\n",
    "            speed_=\"FAST\"\n",
    "        print(speed_,self.radius,self.color,self.on)\n",
    "e = Fan()\n",
    "e.fan(3,10.0,\"yellow\",True)\n",
    "e.function()\n",
    "e.fan(2,5.0,\"blue\",False)\n",
    "e.function()    "
   ]
  },
  {
   "cell_type": "markdown",
   "metadata": {},
   "source": [
    "4、（几何：正n边形）设计一个名为RegularPolygon的类"
   ]
  },
  {
   "cell_type": "code",
   "execution_count": 4,
   "metadata": {},
   "outputs": [
    {
     "name": "stdout",
     "output_type": "stream",
     "text": [
      "40\n",
      "30.776835371752536\n"
     ]
    }
   ],
   "source": [
    "import math\n",
    "class RegularPolygon(object):\n",
    "    def __init__(self,n,side,x,y):\n",
    "        self.n=n\n",
    "        self.side=side\n",
    "        self.x=x\n",
    "        self.y=y\n",
    "    def getPerimenter(self):\n",
    "        print(self.n*self.side)\n",
    "    def getArea(self):\n",
    "        Area = self.n*self.side/(4*math.tan(math.pi/self.n))\n",
    "        print(Area)\n",
    "e = RegularPolygon(10,4,5.6,7.8)\n",
    "e.getPerimenter()\n",
    "e.getArea()"
   ]
  },
  {
   "cell_type": "markdown",
   "metadata": {},
   "source": [
    "5、（代数：2* 2线性方程式）设计一个名为LinearEquation的类"
   ]
  },
  {
   "cell_type": "code",
   "execution_count": 8,
   "metadata": {},
   "outputs": [
    {
     "name": "stdout",
     "output_type": "stream",
     "text": [
      "2.55\n",
      "-0.05\n"
     ]
    }
   ],
   "source": [
    "class LinearEquation(object):\n",
    "    def __init__(self,a,b,c,d,e,f):\n",
    "        self.__a=a\n",
    "        self.__b=b\n",
    "        self.__c=c\n",
    "        self.__d=d\n",
    "        self.__e=e\n",
    "        self.__f=f\n",
    "    def isSolvable(self):\n",
    "        z=self.__a*self.__d-self.__b*self.__c\n",
    "        if z != 0:\n",
    "            self.z=True \n",
    "        else:\n",
    "            self.z=False\n",
    "            print('这个方程无解')\n",
    "            \n",
    "    def get(self):\n",
    "        self.x=(self.__e*self.__d-self.__b*self.__f)/(self.__a*self.__d-self.__b*self.__c)\n",
    "        self.y=(self.__a*self.__f-self.__e*self.__c)/(self.__a*self.__d-self.__b*self.__c)\n",
    "    def getX(self):\n",
    "        self.isSolvable()\n",
    "        if self.z == True:\n",
    "            self.get()\n",
    "            print(self.x)\n",
    "        \n",
    "    def getY(self):\n",
    "        self.isSolvable()\n",
    "        if self.z == True:\n",
    "            self.get()\n",
    "            print(self.y)      \n",
    "e=LinearEquation(2,2,3,33,5,6)\n",
    "e.getX()\n",
    "e.getY()"
   ]
  },
  {
   "cell_type": "markdown",
   "metadata": {},
   "source": [
    "6、（几何：交叉线）"
   ]
  },
  {
   "cell_type": "code",
   "execution_count": null,
   "metadata": {},
   "outputs": [],
   "source": [
    "\n",
    "class LinearEquation(object):\n",
    "    def __init__(self):\n",
    "        pass\n",
    "    def line1(x1,y1):\n",
    "        dian1= [x1,y1][2,2]\n",
    "        dian2= [x2,y2][0,0]\n",
    "    def line2(x2,y2):\n",
    "        dian3= [x3,y3][0,2]\n",
    "        dian4= [x4,y4][2,0]\n",
    "    def jd(self):\n",
    "        pass\n",
    "a=LinearEquation()\n",
    "a.jd()"
   ]
  },
  {
   "cell_type": "markdown",
   "metadata": {},
   "source": [
    "7、（代数：2* 2线性方程式）设计一个名为LinearEquation的类"
   ]
  },
  {
   "cell_type": "code",
   "execution_count": 5,
   "metadata": {},
   "outputs": [
    {
     "name": "stdout",
     "output_type": "stream",
     "text": [
      "这个方程无解\n",
      "这个方程无解\n"
     ]
    }
   ],
   "source": [
    "class LinearEquation(object):\n",
    "    def __init__(self,a,b,c,d,e,f):\n",
    "        self.__a=a\n",
    "        self.__b=b\n",
    "        self.__c=c\n",
    "        self.__d=d\n",
    "        self.__e=e\n",
    "        self.__f=f\n",
    "    def isSolvable(self):\n",
    "        z=self.__a*self.__d-self.__b*self.__c\n",
    "        if z != 0:\n",
    "            self.z=True \n",
    "        else:\n",
    "            self.z=False\n",
    "            print('这个方程无解')\n",
    "            \n",
    "    def get(self):\n",
    "        self.x=(self.__e*self.__d-self.__b*self.__f)/(self.__a*self.__d-self.__b*self.__c)\n",
    "        self.y=(self.__a*self.__f-self.__e*self.__c)/(self.__a*self.__d-self.__b*self.__c)\n",
    "    def getX(self):\n",
    "        self.isSolvable()\n",
    "        if self.z == True:\n",
    "            self.get()\n",
    "            print(self.x)\n",
    "        \n",
    "    def getY(self):\n",
    "        self.isSolvable()\n",
    "        if self.z == True:\n",
    "            self.get()\n",
    "            print(self.y)      \n",
    "e=LinearEquation(2,2,3,3,5,6)\n",
    "e.getX()\n",
    "e.getY()"
   ]
  },
  {
   "cell_type": "markdown",
   "metadata": {},
   "source": [
    "用类封装4个功能\n",
    "wxpy：用Python玩微信\n",
    "1、对于特定的好友自动回复，文本和图片\n",
    "2、封装一个统计微信性别数量和总人数的比例，男生的比例，女生的比例\n",
    "3、统计你的好友都属于哪个省份并绘制直方图"
   ]
  },
  {
   "cell_type": "code",
   "execution_count": 21,
   "metadata": {},
   "outputs": [
    {
     "name": "stderr",
     "output_type": "stream",
     "text": [
      "Getting uuid of QR code.\n",
      "Downloading QR code.\n",
      "Please scan the QR code to log in.\n",
      "Please press confirm on your phone.\n",
      "Loading the contact, this may take a little while.\n",
      "Login successfully as Q🌸\n"
     ]
    }
   ],
   "source": [
    "from wxpy import *\n",
    "bot = Bot()"
   ]
  },
  {
   "cell_type": "code",
   "execution_count": 58,
   "metadata": {},
   "outputs": [
    {
     "name": "stdout",
     "output_type": "stream",
     "text": [
      "发送成功！\n",
      "ok\n",
      "[<Friend: Q🌸>, <Friend: 娘亲>, <Friend: 罗轩美妆（长年招收学生）招美容师>, <Friend: 大舅>, <Friend: 李妍จุ๊บ>, <Friend: 门口早餐>, <Friend: 张虹姐>, <Friend: 老舅妈>, <Friend: 创一电商客服>, <Friend: 海拉尔丽涛化妆品>, <Friend: 化学补课班>, <Friend: 高中常瑞>, <Friend: 高中陈曦>, <Friend: 大学代行强>, <Friend: 假日高巍>, <Friend: 假日郭晓玲>, <Friend: 高中韩壮>, <Friend: 大学贺娜>, <Friend: 胡旺>, <Friend: 高中马慧>, <Friend: 初中戚慧杰>, <Friend: 大学王影>, <Friend: 高中王子博>, <Friend: 高中杨梁旭>, <Friend: 大学要志敏>, <Friend: 高中叶波>, <Friend: 大学张诗童 >, <Friend: 大学张晨照>, <Friend: 初中赵佳>, <Friend: 大学李媛媛>, <Friend: 大学薛东晶>, <Friend: 大学郭志颍>, <Friend: 大学张佳彤>, <Friend: 丁利军>, <Friend: 大学梁云鹏>, <Friend: 初中高晶>, <Friend: 大学秦聪妮>, <Friend: 初中卜佳琪>, <Friend: 高中王伟男>, <Friend: 大学刘旭哲>, <Friend: 初中晓荣>, <Friend: 大学刘静    >, <Friend: 大学王金红>, <Friend: 高中程武飞>, <Friend: 张娟老师>, <Friend: 大学曹阳>, <Friend: 大学丛婷婷>, <Friend: 一刻达快递代取>, <Friend: 大学邢显昭>, <Friend: 科二教练>, <Friend: 大学冯小敏>, <Friend: 老师王忠媛>, <Friend: 假日阿根>, <Friend: 大学罗广峰>, <Friend: 大学袁婷>, <Friend: 老师范安荣>, <Friend: 初中赵婧姝>, <Friend: 老舅>, <Friend: 大学张龙宇>, <Friend: 初中张雨>, <Friend: 婷婷姐>, <Friend: 老舅妈>, <Friend: 大学王涵>, <Friend: 大学田成>, <Friend: 高中郑思宇>, <Friend: 大学王春宇>, <Friend: 邢正如>, <Friend: 巨头女孩<span class=\"emoji emoji1f646\"></span> >, <Friend: 初中大王悦>, <Friend: 大学赵美娟>, <Friend: 大学张晨照>, <Friend: 小可爱<span class=\"emoji emoji1f338\"></span> <span class=\"emoji emoji1f60d\"></span> >, <Friend: 小超超<span class=\"emoji emoji1f467\"></span> >, <Friend: 小垃圾<span class=\"emoji emoji1f47f\"></span>  >, <Friend: 大学赵昀>, <Friend: 姥姥>, <Friend: 大学李东升>, <Friend: 大学金新华>, <Friend: 大学孟祥伟>, <Friend: 刘琳>, <Friend: 张丽芳>, <Friend: 父皇大大>, <Friend: 高中杨丹>, <Friend: 小舅>, <Friend: 中公教育邱蓉蓉>, <Friend: 明媚温莎莎>, <Friend: 大学梅林>, <Friend: 高中姜琪>, <Friend: 大学秋艺霖儿>, <Friend: 刘玉莹>, <Friend: 高中萨姆>, <Friend: 大学王润泽>, <Friend: 大学杨倩文>, <Friend: 小猪猪>, <Friend: 专享彩妆顾问13sdj>, <Friend: 大学腻.>, <Friend: 中公马老师>, <Friend: 大学张雅倩>, <Friend: 季心如>, <Friend: 高中赵静怡>, <Friend: 高中范含金>, <Friend: 驾校王冀真>, <Friend: 大学杨楠>, <Friend: 大学张芮>, <Friend: 高中高天皓 >, <Friend: 大学张颖>, <Friend: 徳👁邦18004701937>, <Friend: 假日葛爽>, <Friend: 高中张宇>, <Friend: 大学周轩扬>]\n",
      "共有 110 个人\n",
      "男： 34 人\n",
      "女： 72 人\n",
      "人妖： 4\n",
      "男性比例： 0.3090909090909091\n",
      "女性比例： 0.6545454545454545\n"
     ]
    },
    {
     "name": "stderr",
     "output_type": "stream",
     "text": [
      "LOG OUT!\n"
     ]
    }
   ],
   "source": [
    "import requests\n",
    "class wefriend(object):\n",
    "    def get_msg(self):      \n",
    "        url = 'C:/Users/13947/Pictures/Camera Roll/love.jpeg'\n",
    "        self.url=url      \n",
    "    def Special(self):\n",
    "        my_friend = bot.friends().search('小猪猪')[0]             #找到好友\n",
    "        my_friend.send('这个男人帅呆了')        #给好友发送消息\n",
    "        print('发送成功！')\n",
    "        self.get_msg()\n",
    "        my_friend.send_image(self.url)\n",
    "        print('ok')\n",
    "    def tongji(self):\n",
    "        my_friend = bot.friends()\n",
    "        print(my_friend)\n",
    "        print('共有',len(my_friend),'个人')\n",
    "        my_friend_man = bot.friends().search(sex=1)\n",
    "        print('男：',len(my_friend_man),'人')\n",
    "        my_friend_woman = bot.friends().search(sex=2)\n",
    "        print('女：',len(my_friend_woman),'人')\n",
    "        my_friend_weizhi = len(my_friend)-len(my_friend_man)-len(my_friend_woman)\n",
    "        print('人妖：',my_friend_weizhi)\n",
    "        \n",
    "        print('男性比例：',len(my_friend_man)/len(my_friend))\n",
    "        print('女性比例：',len(my_friend_woman)/len(my_friend))\n",
    "s=wefriend()\n",
    "s.get_msg()\n",
    "s.Special()\n",
    "s.tongji()"
   ]
  },
  {
   "cell_type": "code",
   "execution_count": null,
   "metadata": {},
   "outputs": [],
   "source": []
  }
 ],
 "metadata": {
  "kernelspec": {
   "display_name": "Python 3",
   "language": "python",
   "name": "python3"
  },
  "language_info": {
   "codemirror_mode": {
    "name": "ipython",
    "version": 3
   },
   "file_extension": ".py",
   "mimetype": "text/x-python",
   "name": "python",
   "nbconvert_exporter": "python",
   "pygments_lexer": "ipython3",
   "version": "3.6.4"
  }
 },
 "nbformat": 4,
 "nbformat_minor": 2
}
